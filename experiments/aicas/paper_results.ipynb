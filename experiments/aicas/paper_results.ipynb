{
 "cells": [
  {
   "cell_type": "code",
   "execution_count": null,
   "metadata": {},
   "outputs": [],
   "source": [
    "import torch\n",
    "import torch.nn as nn\n",
    "import numpy as np\n",
    "import matplotlib.pyplot as plt\n",
    "\n",
    "from MemSE.train_test_loop import test, test_mse_th, test_mse_sim\n",
    "from MemSE.model_load import load_memristor\n",
    "from MemSE.dataset import get_dataloader\n",
    "\n",
    "device = torch.device('cuda')\n",
    "print(device)\n",
    "\n",
    "bs = 4\n",
    "nb_batch = 100 / bs\n",
    "train_loader, valid_loader, test_loader, nclasses, input_shape = get_dataloader('CIFAR10', bs=bs)\n",
    "criterion = nn.CrossEntropyLoss().to(device)\n",
    "\n",
    "models_names = ['smallest_vgg', 'really_small_vgg']\n",
    "\n",
    "N = 128\n",
    "\n",
    "memse = load_memristor(models_names[0], nclasses, 'all', device, input_shape, 0.01, N)"
   ]
  },
  {
   "cell_type": "markdown",
   "metadata": {},
   "source": [
    "# Figure 2 results"
   ]
  },
  {
   "cell_type": "code",
   "execution_count": null,
   "metadata": {},
   "outputs": [],
   "source": [
    "accuracies = {n: [] for n in models_names}\n",
    "mses_th = {n: [] for n in models_names}\n",
    "mses_sim = {n: [] for n in models_names}\n",
    "std_noise_fig_2 = np.linspace(1e-3, 1e-1, 10)\n",
    "\n",
    "for network in models_names:\n",
    "    for sig in std_noise_fig_2:\n",
    "        memse.quanter.std_noise = sig\n",
    "        memse.quant()\n",
    "        accuracies[network].append(test(valid_loader, memse.quanter, criterion, device=device, batch_stop=nb_batch))\n",
    "        mses, _ = test_mse_th(valid_loader, memse, device, nb_batch)\n",
    "        mses_th[network].append(np.mean(mses))\n",
    "        mses_sim[network].append(np.mean(test_mse_sim(valid_loader, memse, device, nb_batch)))\n",
    "        memse.unquant()"
   ]
  },
  {
   "cell_type": "code",
   "execution_count": null,
   "metadata": {},
   "outputs": [],
   "source": [
    "fig_2 = plt.subplot()\n",
    "fig_2_acc = fig_2.twinx()\n",
    "for network in models_names:\n",
    "    fig_2.plot(std_noise_fig_2, mses_th[network], label=f'{network=} th')\n",
    "    fig_2.plot(std_noise_fig_2, mses_sim[network], label=f'{network=} sim')\n",
    "\n",
    "    fig_2_acc.plot(std_noise_fig_2, accuracies[network], label=f'{network=} accuracy')\n",
    "plt.legend()\n",
    "plt.show()"
   ]
  },
  {
   "cell_type": "markdown",
   "metadata": {},
   "source": [
    "# Figure 3 results"
   ]
  },
  {
   "cell_type": "code",
   "execution_count": null,
   "metadata": {},
   "outputs": [],
   "source": [
    "std_noise_fig_3 = [0.01, 0.003, 0.001]\n",
    "Gmax_fig_3 = np.logspace(1e-1, 1e2)\n",
    "network = models_names[0]\n",
    "\n",
    "mses_sim_fig_3 = {n: [] for n in std_noise_fig_3}\n",
    "mses_th_fig_3 = {n: [] for n in std_noise_fig_3}\n",
    "for sig in std_noise_fig_3:\n",
    "    for Gmax in Gmax_fig_3:\n",
    "        memse.quanter.init_gmax(Gmax)\n",
    "        mses_sim_fig_3[sig].append(np.mean(test_mse_sim(valid_loader, memse, device, nb_batch)))\n",
    "        mses, _ = test_mse_th(valid_loader, memse, device, nb_batch)\n",
    "        mses_th_fig_3[sig].append(np.mean(mses))"
   ]
  },
  {
   "cell_type": "code",
   "execution_count": null,
   "metadata": {},
   "outputs": [],
   "source": [
    "fig_3 = plt.subplot()\n",
    "for sig in std_noise_fig_3:\n",
    "    fig_3.plot(Gmax_fig_3, mses_th_fig_3[sig], label=f'Theory {sig=}')\n",
    "    fig_3.plot(Gmax_fig_3, mses_sim_fig_3[sig], label=f'Simulation {sig=}')"
   ]
  },
  {
   "cell_type": "markdown",
   "metadata": {},
   "source": [
    "# Figure 4 results"
   ]
  },
  {
   "cell_type": "code",
   "execution_count": null,
   "metadata": {},
   "outputs": [],
   "source": [
    "std_noise_fig_4 = 0.01\n",
    "Gmax_fig_4 = []\n",
    "# TODO load Gmaxses per layer"
   ]
  }
 ],
 "metadata": {
  "language_info": {
   "name": "python"
  },
  "orig_nbformat": 4
 },
 "nbformat": 4,
 "nbformat_minor": 2
}
