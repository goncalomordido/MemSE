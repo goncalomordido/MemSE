{
 "cells": [
  {
   "cell_type": "code",
   "execution_count": 1,
   "metadata": {},
   "outputs": [
    {
     "name": "stdout",
     "output_type": "stream",
     "text": [
      "[pyKeOps]: Warning, no cuda detected. Switching to cpu only.\n",
      "Files already downloaded and verified\n",
      "Files already downloaded and verified\n",
      "Files already downloaded and verified\n",
      "Loading model checkpoint\n",
      "4030\n",
      "8061088\n",
      "Original acc is [tensor(60.9375)]\n",
      "Quanted acc is [tensor(13.2812)]\n"
     ]
    }
   ],
   "source": [
    "import torch\n",
    "import torch.nn as nn\n",
    "import numpy as np\n",
    "from MemSE.train_test_loop import accuracy\n",
    "from MemSE.utils import count_parameters\n",
    "from MemSE.model_load import load_model\n",
    "from MemSE.dataset import get_dataloader\n",
    "from MemSE.network_manipulations import conv_to_fc\n",
    "from MemSE.MemSE import MemSE\n",
    "from MemSE.MemristorQuant import MemristorQuant\n",
    "\n",
    "device = torch.device('cpu')\n",
    "\n",
    "train_loader, valid_loader, test_loader, nclasses, input_shape = get_dataloader('CIFAR10')\n",
    "criterion = nn.CrossEntropyLoss().to(device)\n",
    "model = load_model('smallest_vgg', nclasses).to(device)\n",
    "print(count_parameters(model))\n",
    "model = conv_to_fc(model, input_shape).to(device)\n",
    "print(count_parameters(model))\n",
    "batch, target = next(iter(valid_loader))\n",
    "batch, target = batch.to(device), target.to(device)\n",
    "original_output = model(batch)\n",
    "original_acc = accuracy(original_output, target)\n",
    "print(f'Original acc is {original_acc}')\n",
    "\n",
    "quanter = MemristorQuant(model)\n",
    "quanter.quant()\n",
    "quanted_output = model(batch)\n",
    "quanted_acc = accuracy(quanted_output, target)\n",
    "print(f'Quanted acc is {quanted_acc}')"
   ]
  },
  {
   "cell_type": "code",
   "execution_count": null,
   "metadata": {},
   "outputs": [],
   "source": [
    "memse = MemSE(model, quanter)\n",
    "x, gamma, P_tot, mses = memse.mse_forward(batch)"
   ]
  }
 ],
 "metadata": {
  "interpreter": {
   "hash": "e1de2029d32b0e8ab558393913afb0dd151843c55642a0a449a3bb16dbda2cb5"
  },
  "kernelspec": {
   "display_name": "Python 3.9.8 ('.env': venv)",
   "language": "python",
   "name": "python3"
  },
  "language_info": {
   "codemirror_mode": {
    "name": "ipython",
    "version": 3
   },
   "file_extension": ".py",
   "mimetype": "text/x-python",
   "name": "python",
   "nbconvert_exporter": "python",
   "pygments_lexer": "ipython3",
   "version": "3.9.8"
  },
  "orig_nbformat": 4
 },
 "nbformat": 4,
 "nbformat_minor": 2
}
