{
 "cells": [
  {
   "cell_type": "code",
   "execution_count": 1,
   "metadata": {},
   "outputs": [
    {
     "name": "stdout",
     "output_type": "stream",
     "text": [
      "[pyKeOps]: Warning, no cuda detected. Switching to cpu only.\n",
      "Files already downloaded and verified\n",
      "Files already downloaded and verified\n",
      "Files already downloaded and verified\n",
      "Loading model checkpoint\n",
      "4030\n",
      "8061088\n",
      "Original acc is [tensor(75.)]\n",
      "Quanted acc is [tensor(25.)]\n"
     ]
    }
   ],
   "source": [
    "import torch\n",
    "import torch.nn as nn\n",
    "import numpy as np\n",
    "import matplotlib.pyplot as plt\n",
    "\n",
    "from MemSE.train_test_loop import accuracy\n",
    "from MemSE.utils import count_parameters\n",
    "from MemSE.model_load import load_model\n",
    "from MemSE.dataset import get_dataloader\n",
    "from MemSE.network_manipulations import conv_to_fc\n",
    "from MemSE.MemSE import MemSE\n",
    "from MemSE.MemristorQuant import MemristorQuant\n",
    "\n",
    "device = torch.device('cpu')\n",
    "\n",
    "train_loader, valid_loader, test_loader, nclasses, input_shape = get_dataloader('CIFAR10', bs=4)\n",
    "criterion = nn.CrossEntropyLoss().to(device)\n",
    "model = load_model('smallest_vgg', nclasses).to(device)\n",
    "print(count_parameters(model))\n",
    "model = conv_to_fc(model, input_shape).to(device)\n",
    "print(count_parameters(model))\n",
    "batch, target = next(iter(valid_loader))\n",
    "batch, target = batch.to(device), target.to(device)\n",
    "original_output = model(batch)\n",
    "original_acc = accuracy(original_output, target)\n",
    "print(f'Original acc is {original_acc}')\n",
    "\n",
    "\n",
    "quanter = MemristorQuant(model)\n",
    "quanter.quant()\n",
    "quanted_output = model(batch)\n",
    "quanted_acc = accuracy(quanted_output, target)\n",
    "print(f'Quanted acc is {quanted_acc}')"
   ]
  },
  {
   "cell_type": "code",
   "execution_count": 2,
   "metadata": {},
   "outputs": [],
   "source": [
    "memse = MemSE(model, quanter, input_bias=None)\n",
    "mses = memse.mse_forward(batch)"
   ]
  },
  {
   "cell_type": "code",
   "execution_count": 3,
   "metadata": {},
   "outputs": [
    {
     "data": {
      "text/plain": [
       "{'sim': {torch.nn.modules.linear.Linear: {0: array(10205633., dtype=float32),\n",
       "   3: array(2.7202143e+12, dtype=float32),\n",
       "   6: array(3.630482e+17, dtype=float32),\n",
       "   9: array(2.3978916e+22, dtype=float32),\n",
       "   12: array(8.20979e+26, dtype=float32),\n",
       "   15: array(6.5632474e+30, dtype=float32)},\n",
       "  torch.nn.modules.activation.Softplus: {1: array(5093526., dtype=float32),\n",
       "   4: array(1.3499968e+12, dtype=float32),\n",
       "   7: array(1.7982765e+17, dtype=float32),\n",
       "   10: array(1.2075158e+22, dtype=float32),\n",
       "   13: array(3.949026e+26, dtype=float32)},\n",
       "  torch.nn.modules.pooling.AvgPool2d: {2: array(2485148., dtype=float32),\n",
       "   5: array(6.601119e+11, dtype=float32),\n",
       "   8: array(8.699321e+16, dtype=float32),\n",
       "   11: array(5.9800445e+21, dtype=float32),\n",
       "   14: array(1.8912285e+26, dtype=float32)}},\n",
       " 'us': {torch.nn.modules.linear.Linear: {0: array(1021.0253, dtype=float32),\n",
       "   3: array(26879.363, dtype=float32),\n",
       "   6: array(492960.62, dtype=float32),\n",
       "   9: array(3549650., dtype=float32),\n",
       "   12: array(33514918., dtype=float32),\n",
       "   15: array(3.633332e+08, dtype=float32)},\n",
       "  torch.nn.modules.activation.Softplus: {1: array(372.11346, dtype=float32),\n",
       "   4: array(9808.231, dtype=float32),\n",
       "   7: array(112978.28, dtype=float32),\n",
       "   10: array(5113253., dtype=float32),\n",
       "   13: array(78292504., dtype=float32)},\n",
       "  torch.nn.modules.pooling.AvgPool2d: {2: array(91.56523, dtype=float32),\n",
       "   5: array(8401.441, dtype=float32),\n",
       "   8: array(117387.15, dtype=float32),\n",
       "   11: array(3102454.2, dtype=float32),\n",
       "   14: array(54034472., dtype=float32)}}}"
      ]
     },
     "execution_count": 3,
     "metadata": {},
     "output_type": "execute_result"
    }
   ],
   "source": [
    "mses"
   ]
  },
  {
   "cell_type": "code",
   "execution_count": 4,
   "metadata": {},
   "outputs": [
    {
     "data": {
      "image/png": "[encoded data removed]",
      "text/plain": [
       "<Figure size 432x288 with 1 Axes>"
      ]
     },
     "metadata": {
      "needs_background": "light"
     },
     "output_type": "display_data"
    }
   ],
   "source": [
    "for type_, sub_dict in mses['sim'].items():\n",
    "    us_sub_dict = mses['us'].get(type_)\n",
    "    plt.scatter(sub_dict.keys(), sub_dict.values(), marker='.', label=str(type_).split('.')[-1]+' simul')\n",
    "    plt.scatter(us_sub_dict.keys(), us_sub_dict.values(), marker='*', label=str(type_).split('.')[-1]+' us')\n",
    "plt.legend()\n",
    "plt.yscale('log')\n",
    "plt.xlabel('Layer')\n",
    "plt.ylabel('MSE')\n",
    "plt.show()"
   ]
  }
 ],
 "metadata": {
  "interpreter": {
   "hash": "e1de2029d32b0e8ab558393913afb0dd151843c55642a0a449a3bb16dbda2cb5"
  },
  "kernelspec": {
   "display_name": "Python 3.9.8 ('.env': venv)",
   "language": "python",
   "name": "python3"
  },
  "language_info": {
   "codemirror_mode": {
    "name": "ipython",
    "version": 3
   },
   "file_extension": ".py",
   "mimetype": "text/x-python",
   "name": "python",
   "nbconvert_exporter": "python",
   "pygments_lexer": "ipython3",
   "version": "3.9.8"
  },
  "orig_nbformat": 4
 },
 "nbformat": 4,
 "nbformat_minor": 2
}
