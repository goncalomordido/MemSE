{
 "cells": [
  {
   "cell_type": "code",
   "execution_count": 1,
   "metadata": {},
   "outputs": [
    {
     "name": "stdout",
     "output_type": "stream",
     "text": [
      "Files already downloaded and verified\n",
      "Files already downloaded and verified\n",
      "Files already downloaded and verified\n",
      "Loading model checkpoint\n"
     ]
    }
   ],
   "source": [
    "import torch\n",
    "import numpy as np\n",
    "import matplotlib.pyplot as plt\n",
    "from MemSE.utils import count_parameters, n_vars_computation\n",
    "from MemSE.model_load import load_model\n",
    "from MemSE.dataset import get_dataloader\n",
    "from MemSE.network_manipulations import conv_to_fc\n",
    "from MemSE.mse_functions import _problem_function_batched\n",
    "from MemSE.MemristorQuant import MemristorQuant\n",
    "\n",
    "train_loader, valid_loader, test_loader, nclasses, input_shape = get_dataloader('CIFAR10')\n",
    "model = load_model('smallest_vgg', nclasses)\n",
    "model = conv_to_fc(model, input_shape)\n",
    "batch, _ = next(iter(test_loader))\n",
    "n_vars_column, n_vars_layer = n_vars_computation(model)\n",
    "with torch.no_grad():\n",
    "    z = model(batch).cpu().detach()\n",
    "sigma = 0.01\n",
    "r = 1\n",
    "N = 100\n",
    "wmax_mode = 'network'\n",
    "args = (model, sigma, r, N, wmax_mode)\n",
    "\n",
    "def mse(tensor, ref):\n",
    "    return torch.square(ref-tensor)\n",
    "    # return torch.mean(torch.amax(torch.square(ref-tensor), dim=1), dim=0)"
   ]
  },
  {
   "cell_type": "code",
   "execution_count": 2,
   "metadata": {},
   "outputs": [
    {
     "name": "stdout",
     "output_type": "stream",
     "text": [
      "CPU times: user 2min 4s, sys: 26.9 s, total: 2min 31s\n",
      "Wall time: 35.1 s\n"
     ]
    }
   ],
   "source": [
    "%%time\n",
    "# COMPUTE MSE WITH METHOD \n",
    "# TIME + ONE INFERENCE (HIDDEN COST HERE)\n",
    "_, mse_th = _problem_function_batched(np.ones(n_vars_layer), args, x=batch, z=z)"
   ]
  },
  {
   "cell_type": "code",
   "execution_count": 3,
   "metadata": {},
   "outputs": [],
   "source": [
    "quanter = MemristorQuant(model, N = N, wmax_mode=wmax_mode, Gmax=np.ones(n_vars_layer), std_noise = sigma)\n",
    "quanter.quant()"
   ]
  },
  {
   "cell_type": "code",
   "execution_count": 4,
   "metadata": {},
   "outputs": [
    {
     "name": "stdout",
     "output_type": "stream",
     "text": [
      "CPU times: user 369 ms, sys: 0 ns, total: 369 ms\n",
      "Wall time: 189 ms\n"
     ]
    }
   ],
   "source": [
    "%%time\n",
    "# ONE LOOP OF MONTE CARLO\n",
    "with torch.no_grad():\n",
    "    quanter.renoise()\n",
    "    _ = model(batch)"
   ]
  },
  {
   "cell_type": "code",
   "execution_count": 5,
   "metadata": {},
   "outputs": [],
   "source": [
    "quanter.unquant()"
   ]
  },
  {
   "cell_type": "code",
   "execution_count": 6,
   "metadata": {},
   "outputs": [],
   "source": [
    "# PLOT EPSILON NB OF LOOPS\n",
    "quanter.quant()\n",
    "mse_per_pass = []\n",
    "n = 200\n",
    "mse_i = torch.zeros_like(z)\n",
    "with torch.no_grad():\n",
    "    for i in range(n):\n",
    "        quanter.renoise()\n",
    "        z_i = model(batch)\n",
    "        se_i = mse(z_i, z)#.item()\n",
    "        mse_i = (mse_i * i + se_i)/(i+1)\n",
    "        mse_per_pass.append(torch.mean(torch.amax(mse_i, dim=1)).item())\n",
    "        #if len(mse_per_pass) == 0:\n",
    "        #    mse_per_pass.append(mse_i)\n",
    "        #else:\n",
    "        #    mse_per_pass.append(((i)*mse_per_pass[-1]+(mse_i))/(i+1))\n",
    "    quanter.unquant()"
   ]
  },
  {
   "cell_type": "code",
   "execution_count": 7,
   "metadata": {},
   "outputs": [
    {
     "data": {
      "image/png": "[encoded data removed]",
      "text/plain": [
       "<Figure size 432x288 with 1 Axes>"
      ]
     },
     "metadata": {
      "needs_background": "light"
     },
     "output_type": "display_data"
    }
   ],
   "source": [
    "plt.plot(mse_per_pass, color='blue')\n",
    "plt.axhline(mse_th.item(), color='red')\n",
    "plt.show()"
   ]
  }
 ],
 "metadata": {
  "interpreter": {
   "hash": "e1de2029d32b0e8ab558393913afb0dd151843c55642a0a449a3bb16dbda2cb5"
  },
  "kernelspec": {
   "display_name": "Python 3.9.8 ('.env': venv)",
   "language": "python",
   "name": "python3"
  },
  "language_info": {
   "codemirror_mode": {
    "name": "ipython",
    "version": 3
   },
   "file_extension": ".py",
   "mimetype": "text/x-python",
   "name": "python",
   "nbconvert_exporter": "python",
   "pygments_lexer": "ipython3",
   "version": "3.9.8"
  },
  "orig_nbformat": 4
 },
 "nbformat": 4,
 "nbformat_minor": 2
}
