{
 "cells": [
  {
   "cell_type": "code",
   "execution_count": null,
   "metadata": {},
   "outputs": [],
   "source": [
    "import torch\n",
    "import torch.nn as nn\n",
    "import numpy as np\n",
    "import matplotlib.pyplot as plt\n",
    "\n",
    "from MemSE.train_test_loop import test, test_mse_th, test_mse_sim\n",
    "from MemSE.model_load import load_memristor, find_existing\n",
    "from MemSE.dataset import get_dataloader\n",
    "\n",
    "device = torch.device('cpu')\n",
    "print(device)\n",
    "\n",
    "bs = 4\n",
    "nb_batch = 100 / bs\n",
    "train_loader, valid_loader, test_loader, nclasses, input_shape = get_dataloader('CIFAR10', bs=bs)\n",
    "criterion = nn.CrossEntropyLoss().to(device)\n",
    "batch = next(iter(test_loader))\n",
    "\n",
    "models_names = ['smallest_vgg', 'really_small_vgg']\n",
    "\n",
    "N = 128\n",
    "\n",
    "memse = load_memristor(models_names[0], nclasses, 'all', device, input_shape, 0.01, N)"
   ]
  },
  {
   "cell_type": "code",
   "execution_count": null,
   "metadata": {},
   "outputs": [],
   "source": [
    "memse.forward(batch, False, True)\n",
    "plt.show()"
   ]
  }
 ],
 "metadata": {
  "language_info": {
   "name": "python"
  },
  "orig_nbformat": 4
 },
 "nbformat": 4,
 "nbformat_minor": 2
}
